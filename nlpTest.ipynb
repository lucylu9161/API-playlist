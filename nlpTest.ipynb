{
  "nbformat": 4,
  "nbformat_minor": 0,
  "metadata": {
    "colab": {
      "provenance": [],
      "authorship_tag": "ABX9TyOD4a7PGXM6ndvhKgNcqlCY",
      "include_colab_link": true
    },
    "kernelspec": {
      "name": "python3",
      "display_name": "Python 3"
    },
    "language_info": {
      "name": "python"
    }
  },
  "cells": [
    {
      "cell_type": "markdown",
      "metadata": {
        "id": "view-in-github",
        "colab_type": "text"
      },
      "source": [
        "<a href=\"https://colab.research.google.com/github/lucylu9161/API-playlist/blob/master/nlpTest.ipynb\" target=\"_parent\"><img src=\"https://colab.research.google.com/assets/colab-badge.svg\" alt=\"Open In Colab\"/></a>"
      ]
    },
    {
      "cell_type": "code",
      "execution_count": null,
      "metadata": {
        "colab": {
          "base_uri": "https://localhost:8080/"
        },
        "id": "EskbII7zYQ_I",
        "outputId": "28a6d9ef-5658-46a1-fc91-8a7553f25861"
      },
      "outputs": [
        {
          "output_type": "stream",
          "name": "stdout",
          "text": [
            "[4 3 4 4 4 2 2 2 3 4]\n"
          ]
        }
      ],
      "source": [
        "import numpy as np\n",
        "V=5\n",
        "start_idx=0\n",
        "end_idx=1\n",
        "sample_probs = np.ones(V)\n",
        "sample_probs[start_idx] = 0\n",
        "sample_probs[end_idx] = 0\n",
        "sample_probs /= sample_probs.sum()\n",
        "\n",
        "fake = np.random.choice(V, size=10, p=sample_probs)\n",
        "print(fake)"
      ]
    }
  ]
}